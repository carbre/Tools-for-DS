{
 "cells": [
  {
   "cell_type": "markdown",
   "id": "8b2b10ea-508a-4c4d-9dcb-4c86f257c9c7",
   "metadata": {
    "tags": []
   },
   "source": [
    "# Data Science Tools and Ecosystem"
   ]
  },
  {
   "cell_type": "markdown",
   "id": "296bb6ce-7acd-41a9-9ded-eac62551c142",
   "metadata": {},
   "source": [
    "In this notebook, Data Science Tools and Ecosystem are summarized."
   ]
  },
  {
   "cell_type": "markdown",
   "id": "845a8954-514f-4499-b524-1e965bba03d7",
   "metadata": {
    "tags": []
   },
   "source": [
    "Some of the popular languages that Data Scientists use are:"
   ]
  },
  {
   "cell_type": "markdown",
   "id": "15a063c4-ec43-4944-8ca3-81fd369d3759",
   "metadata": {
    "tags": []
   },
   "source": [
    "1. Python.\n",
    "2. R.\n",
    "3. Java."
   ]
  },
  {
   "cell_type": "markdown",
   "id": "1307fc73-5641-4790-a0c7-144770e5ef06",
   "metadata": {},
   "source": [
    "Some of the commonly used libraries used by Data Scientists include:"
   ]
  },
  {
   "cell_type": "markdown",
   "id": "4d91b351-c315-48c4-937e-482674b5cbd4",
   "metadata": {},
   "source": [
    "1. Pandas\n",
    "2. Scypy\n",
    "3. Pytorch"
   ]
  },
  {
   "cell_type": "markdown",
   "id": "1b1d3fa1-9b87-4373-98d3-5dc19ea2a236",
   "metadata": {},
   "source": [
    "|Data Science Tools|\n",
    "|:----------------:|\n",
    "|Python|\n",
    "|R|\n",
    "|Sql|"
   ]
  },
  {
   "cell_type": "markdown",
   "id": "0b400370-6332-4fb6-b485-763e612caeb5",
   "metadata": {},
   "source": [
    "### Below are a few examples of evaluating arithmetic expressions in Python"
   ]
  },
  {
   "cell_type": "markdown",
   "id": "e9162991-c87a-40c0-9fbc-d6c86d6453b3",
   "metadata": {},
   "source": [
    "This a simple arithmetic expression to mutiply then add integers"
   ]
  },
  {
   "cell_type": "code",
   "execution_count": 5,
   "id": "fb8603c4-33b8-4417-b1e4-c7b391e1ad0e",
   "metadata": {
    "tags": []
   },
   "outputs": [
    {
     "data": {
      "text/plain": [
       "17"
      ]
     },
     "execution_count": 5,
     "metadata": {},
     "output_type": "execute_result"
    }
   ],
   "source": [
    "(3*4)+5"
   ]
  },
  {
   "cell_type": "markdown",
   "id": "ab2d463e-6da6-4956-a514-f52a49567d30",
   "metadata": {},
   "source": [
    "This will convert 200 minutes to hours by diving by 60"
   ]
  },
  {
   "cell_type": "code",
   "execution_count": 6,
   "id": "99dac101-d9ac-46f0-995a-5a825efbf813",
   "metadata": {
    "tags": []
   },
   "outputs": [
    {
     "data": {
      "text/plain": [
       "3.3333333333333335"
      ]
     },
     "execution_count": 6,
     "metadata": {},
     "output_type": "execute_result"
    }
   ],
   "source": [
    "200/60"
   ]
  },
  {
   "cell_type": "markdown",
   "id": "29d8d5bf-7e88-441f-8040-f23001539a02",
   "metadata": {},
   "source": [
    "**Objectives:**"
   ]
  },
  {
   "cell_type": "markdown",
   "id": "2af17f8d-cb39-4229-82c4-64c5db4b530d",
   "metadata": {},
   "source": [
    "* List popular languages for Data Science\n",
    "* Example of arithmetic expressions in python\n",
    "* Common used lybraries used"
   ]
  },
  {
   "cell_type": "markdown",
   "id": "e7af18b8-7427-48fd-be8a-6e4af8448325",
   "metadata": {},
   "source": [
    "## Author"
   ]
  },
  {
   "cell_type": "markdown",
   "id": "d87f4b66-e313-41ed-bd8d-75ba3b335acf",
   "metadata": {},
   "source": [
    "Carlos Breuer"
   ]
  }
 ],
 "metadata": {
  "kernelspec": {
   "display_name": "Python",
   "language": "python",
   "name": "conda-env-python-py"
  },
  "language_info": {
   "codemirror_mode": {
    "name": "ipython",
    "version": 3
   },
   "file_extension": ".py",
   "mimetype": "text/x-python",
   "name": "python",
   "nbconvert_exporter": "python",
   "pygments_lexer": "ipython3",
   "version": "3.7.12"
  }
 },
 "nbformat": 4,
 "nbformat_minor": 5
}
